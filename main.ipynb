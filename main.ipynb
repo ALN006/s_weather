{
 "cells": [
  {
   "cell_type": "code",
   "execution_count": 1,
   "id": "f23077c6",
   "metadata": {},
   "outputs": [],
   "source": [
    "import pandas as pd"
   ]
  },
  {
   "cell_type": "code",
   "execution_count": 2,
   "id": "b4217916",
   "metadata": {},
   "outputs": [
    {
     "data": {
      "text/plain": [
       "' The United States\\' National Weather Service (NWS) allows, for free, \\n\"developers access to critical forecasts, alerts, and observations, along with other weather data.\"\\nyou can find the full documentation of their API at: https://www.weather.gov/documentation/services-web-api.\\n\\nthis script attempts to use said access to create a simple weather app'"
      ]
     },
     "execution_count": 2,
     "metadata": {},
     "output_type": "execute_result"
    }
   ],
   "source": [
    "r''' The United States' National Weather Service (NWS) allows, for free, \n",
    "\"developers access to critical forecasts, alerts, and observations, along with other weather data.\"\n",
    "you can find the full documentation of their API at: https://www.weather.gov/documentation/services-web-api.\n",
    "\n",
    "this script attempts to use said access to create a simple weather app'''"
   ]
  },
  {
   "cell_type": "code",
   "execution_count": 3,
   "id": "c554d189",
   "metadata": {},
   "outputs": [],
   "source": [
    "base_location = \"40.10284429898823,-88.23805168679868\" # Champaign, IL"
   ]
  },
  {
   "cell_type": "code",
   "execution_count": 4,
   "id": "f42ea8c5",
   "metadata": {},
   "outputs": [],
   "source": [
    "def forecast_url(location = base_location):\n",
    "    '''returns the weather forecast url for the input location as a string'''\n",
    "    return f\"https://api.weather.gov/points/{location}\""
   ]
  },
  {
   "cell_type": "code",
   "execution_count": 5,
   "id": "4e249d14",
   "metadata": {},
   "outputs": [
    {
     "data": {
      "text/plain": [
       "'https://api.weather.gov/points/40.10284429898823,-88.23805168679868'"
      ]
     },
     "execution_count": 5,
     "metadata": {},
     "output_type": "execute_result"
    }
   ],
   "source": [
    "base_forecast_url = forecast_url(base_location)\n",
    "base_forecast_url"
   ]
  },
  {
   "cell_type": "code",
   "execution_count": 6,
   "id": "294b6855",
   "metadata": {},
   "outputs": [],
   "source": [
    "def forecast_series(location = base_location):\n",
    "    '''returns the weather forecast JSON for the input location'''\n",
    "    url = forecast_url(location)\n",
    "    return pd.read_json(url, typ = 'series')"
   ]
  },
  {
   "cell_type": "code",
   "execution_count": 7,
   "id": "fa6c77af",
   "metadata": {},
   "outputs": [
    {
     "data": {
      "text/plain": [
       "@context      [https://geojson.org/geojson-ld/geojson-contex...\n",
       "id              https://api.weather.gov/points/40.1028,-88.2381\n",
       "type                                                    Feature\n",
       "geometry      {'type': 'Point', 'coordinates': [-88.2381, 40...\n",
       "properties    {'@id': 'https://api.weather.gov/points/40.102...\n",
       "dtype: object"
      ]
     },
     "execution_count": 7,
     "metadata": {},
     "output_type": "execute_result"
    }
   ],
   "source": [
    "base_forecast_series = forecast_series(base_location)\n",
    "base_forecast_series"
   ]
  },
  {
   "cell_type": "code",
   "execution_count": 8,
   "id": "f0661712",
   "metadata": {},
   "outputs": [],
   "source": [
    "def forecast_properties(typ, input):\n",
    "    '''returns forecast properties for input location or forecast series'''\n",
    "    if typ == \"location\":\n",
    "        return forecast_series(input)[\"properties\"]\n",
    "    elif typ == \"forecast series\":\n",
    "        return input[\"properties\"]"
   ]
  },
  {
   "cell_type": "code",
   "execution_count": 9,
   "id": "ee22e01f",
   "metadata": {},
   "outputs": [
    {
     "data": {
      "text/plain": [
       "{'@id': 'https://api.weather.gov/points/40.1028,-88.2381',\n",
       " '@type': 'wx:Point',\n",
       " 'cwa': 'ILX',\n",
       " 'forecastOffice': 'https://api.weather.gov/offices/ILX',\n",
       " 'gridId': 'ILX',\n",
       " 'gridX': 96,\n",
       " 'gridY': 72,\n",
       " 'forecast': 'https://api.weather.gov/gridpoints/ILX/96,72/forecast',\n",
       " 'forecastHourly': 'https://api.weather.gov/gridpoints/ILX/96,72/forecast/hourly',\n",
       " 'forecastGridData': 'https://api.weather.gov/gridpoints/ILX/96,72',\n",
       " 'observationStations': 'https://api.weather.gov/gridpoints/ILX/96,72/stations',\n",
       " 'relativeLocation': {'type': 'Feature',\n",
       "  'geometry': {'type': 'Point', 'coordinates': [-88.273652, 40.115057]},\n",
       "  'properties': {'city': 'Champaign',\n",
       "   'state': 'IL',\n",
       "   'distance': {'unitCode': 'wmoUnit:m', 'value': 3316.4853859903},\n",
       "   'bearing': {'unitCode': 'wmoUnit:degree_(angle)', 'value': 114}}},\n",
       " 'forecastZone': 'https://api.weather.gov/zones/forecast/ILZ045',\n",
       " 'county': 'https://api.weather.gov/zones/county/ILC019',\n",
       " 'fireWeatherZone': 'https://api.weather.gov/zones/fire/ILZ045',\n",
       " 'timeZone': 'America/Chicago',\n",
       " 'radarStation': 'KILX'}"
      ]
     },
     "execution_count": 9,
     "metadata": {},
     "output_type": "execute_result"
    }
   ],
   "source": [
    "base_forecast_properties = forecast_properties(\"forecast series\", base_forecast_series)\n",
    "base_forecast_properties"
   ]
  },
  {
   "cell_type": "code",
   "execution_count": 10,
   "id": "cb77390f",
   "metadata": {},
   "outputs": [],
   "source": [
    "def hourly_forecast_url(typ, input):\n",
    "    '''returns  the hourly forecast url for input location or forecast series or forecast properties'''\n",
    "    if typ == \"location\":\n",
    "        return forecast_properties(\"location\", input)[\"forecastHourly\"]\n",
    "    elif typ == \"forecast series\":\n",
    "        return forecast_properties(\"forecast seris\", input)[\"forecastHourly\"]\n",
    "    elif typ == \"forecast properties\":\n",
    "        return input[\"forecastHourly\"]"
   ]
  },
  {
   "cell_type": "code",
   "execution_count": 11,
   "id": "70ed3d5b",
   "metadata": {},
   "outputs": [
    {
     "data": {
      "text/plain": [
       "'https://api.weather.gov/gridpoints/ILX/96,72/forecast/hourly'"
      ]
     },
     "execution_count": 11,
     "metadata": {},
     "output_type": "execute_result"
    }
   ],
   "source": [
    "base_hourly_forecast_url = hourly_forecast_url(\"forecast properties\", base_forecast_properties)\n",
    "base_hourly_forecast_url"
   ]
  },
  {
   "cell_type": "code",
   "execution_count": 12,
   "id": "38b742dc",
   "metadata": {},
   "outputs": [],
   "source": [
    "def hourly_forecast_series(typ, input):\n",
    "    '''returns the weather forecast for various inputs'''\n",
    "    if typ == \"location\":\n",
    "        return pd.read_json(hourly_forecast_url(\"location\", input), typ = 'series')\n",
    "    elif typ == \"forecast series\":\n",
    "        return pd.read_json(hourly_forecast_url(\"forecast series\", input), typ = \"series\")\n",
    "    elif typ == \"forecast properties\":\n",
    "        return pd.read_json(hourly_forecast_url(\"forecast properties\", input), typ = \"series\")\n",
    "    elif typ == \"hourly forecast url\":\n",
    "        return pd.read_json(input, typ = \"series\")"
   ]
  },
  {
   "cell_type": "code",
   "execution_count": 13,
   "id": "f1519bfa",
   "metadata": {},
   "outputs": [
    {
     "data": {
      "text/plain": [
       "@context      [https://geojson.org/geojson-ld/geojson-contex...\n",
       "type                                                    Feature\n",
       "geometry      {'type': 'Polygon', 'coordinates': [[[-88.2203...\n",
       "properties    {'units': 'us', 'forecastGenerator': 'HourlyFo...\n",
       "dtype: object"
      ]
     },
     "execution_count": 13,
     "metadata": {},
     "output_type": "execute_result"
    }
   ],
   "source": [
    "base_hourly_forecast_series = hourly_forecast_series(\"hourly forecast url\", base_hourly_forecast_url)\n",
    "base_hourly_forecast_series"
   ]
  },
  {
   "cell_type": "code",
   "execution_count": 14,
   "id": "bbaee0e3",
   "metadata": {},
   "outputs": [],
   "source": [
    "def hourly_forecast_table(typ, input):\n",
    "    '''returns the hourly weather forecast as a pandas DataFrame for 6.5 days'''\n",
    "    if typ == \"location\":\n",
    "        return pd.DataFrame(hourly_forecast_series(\"location\", input)[\"properties\"][\"periods\"])\n",
    "    elif typ == \"hourly_forecast_series\":\n",
    "        return pd.DataFrame(input[\"properties\"][\"periods\"])"
   ]
  },
  {
   "cell_type": "code",
   "execution_count": 16,
   "id": "852791f3",
   "metadata": {},
   "outputs": [
    {
     "data": {
      "text/html": [
       "<div>\n",
       "<style scoped>\n",
       "    .dataframe tbody tr th:only-of-type {\n",
       "        vertical-align: middle;\n",
       "    }\n",
       "\n",
       "    .dataframe tbody tr th {\n",
       "        vertical-align: top;\n",
       "    }\n",
       "\n",
       "    .dataframe thead th {\n",
       "        text-align: right;\n",
       "    }\n",
       "</style>\n",
       "<table border=\"1\" class=\"dataframe\">\n",
       "  <thead>\n",
       "    <tr style=\"text-align: right;\">\n",
       "      <th></th>\n",
       "      <th>number</th>\n",
       "      <th>name</th>\n",
       "      <th>startTime</th>\n",
       "      <th>endTime</th>\n",
       "      <th>isDaytime</th>\n",
       "      <th>temperature</th>\n",
       "      <th>temperatureUnit</th>\n",
       "      <th>temperatureTrend</th>\n",
       "      <th>probabilityOfPrecipitation</th>\n",
       "      <th>dewpoint</th>\n",
       "      <th>relativeHumidity</th>\n",
       "      <th>windSpeed</th>\n",
       "      <th>windDirection</th>\n",
       "      <th>icon</th>\n",
       "      <th>shortForecast</th>\n",
       "      <th>detailedForecast</th>\n",
       "    </tr>\n",
       "  </thead>\n",
       "  <tbody>\n",
       "    <tr>\n",
       "      <th>0</th>\n",
       "      <td>1</td>\n",
       "      <td></td>\n",
       "      <td>2025-07-27T07:00:00-05:00</td>\n",
       "      <td>2025-07-27T08:00:00-05:00</td>\n",
       "      <td>True</td>\n",
       "      <td>74</td>\n",
       "      <td>F</td>\n",
       "      <td></td>\n",
       "      <td>{'unitCode': 'wmoUnit:percent', 'value': 20}</td>\n",
       "      <td>{'unitCode': 'wmoUnit:degC', 'value': 22.77777...</td>\n",
       "      <td>{'unitCode': 'wmoUnit:percent', 'value': 97}</td>\n",
       "      <td>5 mph</td>\n",
       "      <td>SW</td>\n",
       "      <td>https://api.weather.gov/icons/land/day/tsra_sc...</td>\n",
       "      <td>Slight Chance Showers And Thunderstorms</td>\n",
       "      <td></td>\n",
       "    </tr>\n",
       "    <tr>\n",
       "      <th>1</th>\n",
       "      <td>2</td>\n",
       "      <td></td>\n",
       "      <td>2025-07-27T08:00:00-05:00</td>\n",
       "      <td>2025-07-27T09:00:00-05:00</td>\n",
       "      <td>True</td>\n",
       "      <td>76</td>\n",
       "      <td>F</td>\n",
       "      <td></td>\n",
       "      <td>{'unitCode': 'wmoUnit:percent', 'value': 21}</td>\n",
       "      <td>{'unitCode': 'wmoUnit:degC', 'value': 22.77777...</td>\n",
       "      <td>{'unitCode': 'wmoUnit:percent', 'value': 90}</td>\n",
       "      <td>5 mph</td>\n",
       "      <td>SW</td>\n",
       "      <td>https://api.weather.gov/icons/land/day/tsra_sc...</td>\n",
       "      <td>Slight Chance Showers And Thunderstorms</td>\n",
       "      <td></td>\n",
       "    </tr>\n",
       "    <tr>\n",
       "      <th>2</th>\n",
       "      <td>3</td>\n",
       "      <td></td>\n",
       "      <td>2025-07-27T09:00:00-05:00</td>\n",
       "      <td>2025-07-27T10:00:00-05:00</td>\n",
       "      <td>True</td>\n",
       "      <td>78</td>\n",
       "      <td>F</td>\n",
       "      <td></td>\n",
       "      <td>{'unitCode': 'wmoUnit:percent', 'value': 21}</td>\n",
       "      <td>{'unitCode': 'wmoUnit:degC', 'value': 23.88888...</td>\n",
       "      <td>{'unitCode': 'wmoUnit:percent', 'value': 91}</td>\n",
       "      <td>6 mph</td>\n",
       "      <td>WSW</td>\n",
       "      <td>https://api.weather.gov/icons/land/day/tsra_sc...</td>\n",
       "      <td>Slight Chance Showers And Thunderstorms</td>\n",
       "      <td></td>\n",
       "    </tr>\n",
       "    <tr>\n",
       "      <th>3</th>\n",
       "      <td>4</td>\n",
       "      <td></td>\n",
       "      <td>2025-07-27T10:00:00-05:00</td>\n",
       "      <td>2025-07-27T11:00:00-05:00</td>\n",
       "      <td>True</td>\n",
       "      <td>80</td>\n",
       "      <td>F</td>\n",
       "      <td></td>\n",
       "      <td>{'unitCode': 'wmoUnit:percent', 'value': 20}</td>\n",
       "      <td>{'unitCode': 'wmoUnit:degC', 'value': 23.88888...</td>\n",
       "      <td>{'unitCode': 'wmoUnit:percent', 'value': 85}</td>\n",
       "      <td>6 mph</td>\n",
       "      <td>WSW</td>\n",
       "      <td>https://api.weather.gov/icons/land/day/tsra_sc...</td>\n",
       "      <td>Slight Chance Showers And Thunderstorms</td>\n",
       "      <td></td>\n",
       "    </tr>\n",
       "    <tr>\n",
       "      <th>4</th>\n",
       "      <td>5</td>\n",
       "      <td></td>\n",
       "      <td>2025-07-27T11:00:00-05:00</td>\n",
       "      <td>2025-07-27T12:00:00-05:00</td>\n",
       "      <td>True</td>\n",
       "      <td>83</td>\n",
       "      <td>F</td>\n",
       "      <td></td>\n",
       "      <td>{'unitCode': 'wmoUnit:percent', 'value': 23}</td>\n",
       "      <td>{'unitCode': 'wmoUnit:degC', 'value': 24.44444...</td>\n",
       "      <td>{'unitCode': 'wmoUnit:percent', 'value': 80}</td>\n",
       "      <td>5 mph</td>\n",
       "      <td>WSW</td>\n",
       "      <td>https://api.weather.gov/icons/land/day/tsra_sc...</td>\n",
       "      <td>Slight Chance Showers And Thunderstorms</td>\n",
       "      <td></td>\n",
       "    </tr>\n",
       "    <tr>\n",
       "      <th>...</th>\n",
       "      <td>...</td>\n",
       "      <td>...</td>\n",
       "      <td>...</td>\n",
       "      <td>...</td>\n",
       "      <td>...</td>\n",
       "      <td>...</td>\n",
       "      <td>...</td>\n",
       "      <td>...</td>\n",
       "      <td>...</td>\n",
       "      <td>...</td>\n",
       "      <td>...</td>\n",
       "      <td>...</td>\n",
       "      <td>...</td>\n",
       "      <td>...</td>\n",
       "      <td>...</td>\n",
       "      <td>...</td>\n",
       "    </tr>\n",
       "    <tr>\n",
       "      <th>151</th>\n",
       "      <td>152</td>\n",
       "      <td></td>\n",
       "      <td>2025-08-02T14:00:00-05:00</td>\n",
       "      <td>2025-08-02T15:00:00-05:00</td>\n",
       "      <td>True</td>\n",
       "      <td>76</td>\n",
       "      <td>F</td>\n",
       "      <td></td>\n",
       "      <td>{'unitCode': 'wmoUnit:percent', 'value': 8}</td>\n",
       "      <td>{'unitCode': 'wmoUnit:degC', 'value': 16.11111...</td>\n",
       "      <td>{'unitCode': 'wmoUnit:percent', 'value': 60}</td>\n",
       "      <td>8 mph</td>\n",
       "      <td>ENE</td>\n",
       "      <td>https://api.weather.gov/icons/land/day/sct?siz...</td>\n",
       "      <td>Mostly Sunny</td>\n",
       "      <td></td>\n",
       "    </tr>\n",
       "    <tr>\n",
       "      <th>152</th>\n",
       "      <td>153</td>\n",
       "      <td></td>\n",
       "      <td>2025-08-02T15:00:00-05:00</td>\n",
       "      <td>2025-08-02T16:00:00-05:00</td>\n",
       "      <td>True</td>\n",
       "      <td>77</td>\n",
       "      <td>F</td>\n",
       "      <td></td>\n",
       "      <td>{'unitCode': 'wmoUnit:percent', 'value': 8}</td>\n",
       "      <td>{'unitCode': 'wmoUnit:degC', 'value': 16.66666...</td>\n",
       "      <td>{'unitCode': 'wmoUnit:percent', 'value': 60}</td>\n",
       "      <td>8 mph</td>\n",
       "      <td>ENE</td>\n",
       "      <td>https://api.weather.gov/icons/land/day/sct?siz...</td>\n",
       "      <td>Mostly Sunny</td>\n",
       "      <td></td>\n",
       "    </tr>\n",
       "    <tr>\n",
       "      <th>153</th>\n",
       "      <td>154</td>\n",
       "      <td></td>\n",
       "      <td>2025-08-02T16:00:00-05:00</td>\n",
       "      <td>2025-08-02T17:00:00-05:00</td>\n",
       "      <td>True</td>\n",
       "      <td>78</td>\n",
       "      <td>F</td>\n",
       "      <td></td>\n",
       "      <td>{'unitCode': 'wmoUnit:percent', 'value': 8}</td>\n",
       "      <td>{'unitCode': 'wmoUnit:degC', 'value': 16.66666...</td>\n",
       "      <td>{'unitCode': 'wmoUnit:percent', 'value': 58}</td>\n",
       "      <td>8 mph</td>\n",
       "      <td>ENE</td>\n",
       "      <td>https://api.weather.gov/icons/land/day/sct?siz...</td>\n",
       "      <td>Mostly Sunny</td>\n",
       "      <td></td>\n",
       "    </tr>\n",
       "    <tr>\n",
       "      <th>154</th>\n",
       "      <td>155</td>\n",
       "      <td></td>\n",
       "      <td>2025-08-02T17:00:00-05:00</td>\n",
       "      <td>2025-08-02T18:00:00-05:00</td>\n",
       "      <td>True</td>\n",
       "      <td>77</td>\n",
       "      <td>F</td>\n",
       "      <td></td>\n",
       "      <td>{'unitCode': 'wmoUnit:percent', 'value': 8}</td>\n",
       "      <td>{'unitCode': 'wmoUnit:degC', 'value': 16.66666...</td>\n",
       "      <td>{'unitCode': 'wmoUnit:percent', 'value': 60}</td>\n",
       "      <td>7 mph</td>\n",
       "      <td>ENE</td>\n",
       "      <td>https://api.weather.gov/icons/land/day/sct?siz...</td>\n",
       "      <td>Mostly Sunny</td>\n",
       "      <td></td>\n",
       "    </tr>\n",
       "    <tr>\n",
       "      <th>155</th>\n",
       "      <td>156</td>\n",
       "      <td></td>\n",
       "      <td>2025-08-02T18:00:00-05:00</td>\n",
       "      <td>2025-08-02T19:00:00-05:00</td>\n",
       "      <td>False</td>\n",
       "      <td>76</td>\n",
       "      <td>F</td>\n",
       "      <td></td>\n",
       "      <td>{'unitCode': 'wmoUnit:percent', 'value': 8}</td>\n",
       "      <td>{'unitCode': 'wmoUnit:degC', 'value': 17.22222...</td>\n",
       "      <td>{'unitCode': 'wmoUnit:percent', 'value': 64}</td>\n",
       "      <td>7 mph</td>\n",
       "      <td>ENE</td>\n",
       "      <td>https://api.weather.gov/icons/land/night/sct?s...</td>\n",
       "      <td>Partly Cloudy</td>\n",
       "      <td></td>\n",
       "    </tr>\n",
       "  </tbody>\n",
       "</table>\n",
       "<p>156 rows × 16 columns</p>\n",
       "</div>"
      ],
      "text/plain": [
       "     number name                  startTime                    endTime  \\\n",
       "0         1       2025-07-27T07:00:00-05:00  2025-07-27T08:00:00-05:00   \n",
       "1         2       2025-07-27T08:00:00-05:00  2025-07-27T09:00:00-05:00   \n",
       "2         3       2025-07-27T09:00:00-05:00  2025-07-27T10:00:00-05:00   \n",
       "3         4       2025-07-27T10:00:00-05:00  2025-07-27T11:00:00-05:00   \n",
       "4         5       2025-07-27T11:00:00-05:00  2025-07-27T12:00:00-05:00   \n",
       "..      ...  ...                        ...                        ...   \n",
       "151     152       2025-08-02T14:00:00-05:00  2025-08-02T15:00:00-05:00   \n",
       "152     153       2025-08-02T15:00:00-05:00  2025-08-02T16:00:00-05:00   \n",
       "153     154       2025-08-02T16:00:00-05:00  2025-08-02T17:00:00-05:00   \n",
       "154     155       2025-08-02T17:00:00-05:00  2025-08-02T18:00:00-05:00   \n",
       "155     156       2025-08-02T18:00:00-05:00  2025-08-02T19:00:00-05:00   \n",
       "\n",
       "     isDaytime  temperature temperatureUnit temperatureTrend  \\\n",
       "0         True           74               F                    \n",
       "1         True           76               F                    \n",
       "2         True           78               F                    \n",
       "3         True           80               F                    \n",
       "4         True           83               F                    \n",
       "..         ...          ...             ...              ...   \n",
       "151       True           76               F                    \n",
       "152       True           77               F                    \n",
       "153       True           78               F                    \n",
       "154       True           77               F                    \n",
       "155      False           76               F                    \n",
       "\n",
       "                       probabilityOfPrecipitation  \\\n",
       "0    {'unitCode': 'wmoUnit:percent', 'value': 20}   \n",
       "1    {'unitCode': 'wmoUnit:percent', 'value': 21}   \n",
       "2    {'unitCode': 'wmoUnit:percent', 'value': 21}   \n",
       "3    {'unitCode': 'wmoUnit:percent', 'value': 20}   \n",
       "4    {'unitCode': 'wmoUnit:percent', 'value': 23}   \n",
       "..                                            ...   \n",
       "151   {'unitCode': 'wmoUnit:percent', 'value': 8}   \n",
       "152   {'unitCode': 'wmoUnit:percent', 'value': 8}   \n",
       "153   {'unitCode': 'wmoUnit:percent', 'value': 8}   \n",
       "154   {'unitCode': 'wmoUnit:percent', 'value': 8}   \n",
       "155   {'unitCode': 'wmoUnit:percent', 'value': 8}   \n",
       "\n",
       "                                              dewpoint  \\\n",
       "0    {'unitCode': 'wmoUnit:degC', 'value': 22.77777...   \n",
       "1    {'unitCode': 'wmoUnit:degC', 'value': 22.77777...   \n",
       "2    {'unitCode': 'wmoUnit:degC', 'value': 23.88888...   \n",
       "3    {'unitCode': 'wmoUnit:degC', 'value': 23.88888...   \n",
       "4    {'unitCode': 'wmoUnit:degC', 'value': 24.44444...   \n",
       "..                                                 ...   \n",
       "151  {'unitCode': 'wmoUnit:degC', 'value': 16.11111...   \n",
       "152  {'unitCode': 'wmoUnit:degC', 'value': 16.66666...   \n",
       "153  {'unitCode': 'wmoUnit:degC', 'value': 16.66666...   \n",
       "154  {'unitCode': 'wmoUnit:degC', 'value': 16.66666...   \n",
       "155  {'unitCode': 'wmoUnit:degC', 'value': 17.22222...   \n",
       "\n",
       "                                 relativeHumidity windSpeed windDirection  \\\n",
       "0    {'unitCode': 'wmoUnit:percent', 'value': 97}     5 mph            SW   \n",
       "1    {'unitCode': 'wmoUnit:percent', 'value': 90}     5 mph            SW   \n",
       "2    {'unitCode': 'wmoUnit:percent', 'value': 91}     6 mph           WSW   \n",
       "3    {'unitCode': 'wmoUnit:percent', 'value': 85}     6 mph           WSW   \n",
       "4    {'unitCode': 'wmoUnit:percent', 'value': 80}     5 mph           WSW   \n",
       "..                                            ...       ...           ...   \n",
       "151  {'unitCode': 'wmoUnit:percent', 'value': 60}     8 mph           ENE   \n",
       "152  {'unitCode': 'wmoUnit:percent', 'value': 60}     8 mph           ENE   \n",
       "153  {'unitCode': 'wmoUnit:percent', 'value': 58}     8 mph           ENE   \n",
       "154  {'unitCode': 'wmoUnit:percent', 'value': 60}     7 mph           ENE   \n",
       "155  {'unitCode': 'wmoUnit:percent', 'value': 64}     7 mph           ENE   \n",
       "\n",
       "                                                  icon  \\\n",
       "0    https://api.weather.gov/icons/land/day/tsra_sc...   \n",
       "1    https://api.weather.gov/icons/land/day/tsra_sc...   \n",
       "2    https://api.weather.gov/icons/land/day/tsra_sc...   \n",
       "3    https://api.weather.gov/icons/land/day/tsra_sc...   \n",
       "4    https://api.weather.gov/icons/land/day/tsra_sc...   \n",
       "..                                                 ...   \n",
       "151  https://api.weather.gov/icons/land/day/sct?siz...   \n",
       "152  https://api.weather.gov/icons/land/day/sct?siz...   \n",
       "153  https://api.weather.gov/icons/land/day/sct?siz...   \n",
       "154  https://api.weather.gov/icons/land/day/sct?siz...   \n",
       "155  https://api.weather.gov/icons/land/night/sct?s...   \n",
       "\n",
       "                               shortForecast detailedForecast  \n",
       "0    Slight Chance Showers And Thunderstorms                   \n",
       "1    Slight Chance Showers And Thunderstorms                   \n",
       "2    Slight Chance Showers And Thunderstorms                   \n",
       "3    Slight Chance Showers And Thunderstorms                   \n",
       "4    Slight Chance Showers And Thunderstorms                   \n",
       "..                                       ...              ...  \n",
       "151                             Mostly Sunny                   \n",
       "152                             Mostly Sunny                   \n",
       "153                             Mostly Sunny                   \n",
       "154                             Mostly Sunny                   \n",
       "155                            Partly Cloudy                   \n",
       "\n",
       "[156 rows x 16 columns]"
      ]
     },
     "execution_count": 16,
     "metadata": {},
     "output_type": "execute_result"
    }
   ],
   "source": [
    "base_hourly_forecast_table = hourly_forecast_table(\"hourly_forecast_series\", base_hourly_forecast_series)\n",
    "base_hourly_forecast_table"
   ]
  },
  {
   "cell_type": "code",
   "execution_count": 17,
   "id": "b74ecdab",
   "metadata": {},
   "outputs": [
    {
     "data": {
      "text/plain": [
       "shortForecast\n",
       "Mostly Sunny                               33\n",
       "Slight Chance Showers And Thunderstorms    30\n",
       "Chance Showers And Thunderstorms           30\n",
       "Partly Cloudy                              26\n",
       "Mostly Cloudy                              18\n",
       "Partly Sunny                               10\n",
       "Sunny                                       5\n",
       "Mostly Clear                                4\n",
       "Name: count, dtype: int64"
      ]
     },
     "execution_count": 17,
     "metadata": {},
     "output_type": "execute_result"
    }
   ],
   "source": [
    "base_hourly_forecast_table[\"shortForecast\"].value_counts()"
   ]
  },
  {
   "cell_type": "code",
   "execution_count": 18,
   "id": "627faf88",
   "metadata": {},
   "outputs": [
    {
     "data": {
      "text/plain": [
       "<Axes: xlabel='number', ylabel='temperature'>"
      ]
     },
     "execution_count": 18,
     "metadata": {},
     "output_type": "execute_result"
    },
    {
     "data": {
      "image/png": "[encoded data removed]",
      "text/plain": [
       "<Figure size 640x480 with 1 Axes>"
      ]
     },
     "metadata": {},
     "output_type": "display_data"
    }
   ],
   "source": [
    "base_hourly_forecast_table.plot.scatter(x = \"number\", y = \"temperature\")"
   ]
  }
 ],
 "metadata": {
  "kernelspec": {
   "display_name": "Python 3",
   "language": "python",
   "name": "python3"
  },
  "language_info": {
   "codemirror_mode": {
    "name": "ipython",
    "version": 3
   },
   "file_extension": ".py",
   "mimetype": "text/x-python",
   "name": "python",
   "nbconvert_exporter": "python",
   "pygments_lexer": "ipython3",
   "version": "3.13.5"
  }
 },
 "nbformat": 4,
 "nbformat_minor": 5
}
